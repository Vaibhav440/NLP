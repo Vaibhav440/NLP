{
  "cells": [
    {
      "cell_type": "markdown",
      "metadata": {
        "id": "view-in-github",
        "colab_type": "text"
      },
      "source": [
        "<a href=\"https://colab.research.google.com/github/Vaibhav440/NLP/blob/main/Assignment_1.ipynb\" target=\"_parent\"><img src=\"https://colab.research.google.com/assets/colab-badge.svg\" alt=\"Open In Colab\"/></a>"
      ]
    },
    {
      "cell_type": "code",
      "source": [
        "Tokenization"
      ],
      "metadata": {
        "id": "wWDdnFaHo7On"
      },
      "execution_count": null,
      "outputs": []
    },
    {
      "cell_type": "code",
      "source": [
        "import spacy\n",
        "nlp=spacy.load(\"en_core_web_sm\")\n",
        "text=( \"Your smile makes me smile\"\n",
        "    \"Your laugh makes me laugh\"\n",
        "    \"Your eyes are enchanting\"\n",
        "    \"You make my thoughts seem daft.\"\n",
        "    \"Since the day I first laid eyes on you,\"\n",
        "    \"My feelings grew and grew.\"\n",
        "    \"In that first conversation my knees clicked and clacked,\"\n",
        "    \"And those butterflies flipped and flapped.\"\n",
        "    \"And as I spill these simple rhymes\"\n",
        "    \"My mind goes over time and time,\"\n",
        "    \"I have a crush, a little teenage crush\"\n",
        "    \"I don't know what to do, about this lovely little crush\")\n",
        "doc=nlp(text)\n",
        "for token in doc:\n",
        "  print(token,token.idx)"
      ],
      "metadata": {
        "id": "UqQp67lahjcM"
      },
      "execution_count": null,
      "outputs": []
    },
    {
      "cell_type": "code",
      "source": [
        "word frequency"
      ],
      "metadata": {
        "id": "e6s_roWHo-XM"
      },
      "execution_count": null,
      "outputs": []
    },
    {
      "cell_type": "code",
      "source": [
        "import spacy\n",
        "from collections import Counter\n",
        "nlp=spacy.load(\"en_core_web_sm\")\n",
        "text=(\"Your laugh makes me laugh\"\n",
        "    \"Your eyes are enchanting\"\n",
        "    \"You make my thoughts seem daft.\"\n",
        "    \"Since the day I first laid eyes on you,\"\n",
        "    \"My feelings grew and grew.\"\n",
        "    \"In that first conversation my knees clicked and clacked,\"\n",
        "    \"And those butterflies flipped and flapped.\")\n",
        "doc=nlp(text)\n",
        "word=[\n",
        "    token.text\n",
        "    for token in doc\n",
        "    if not token.is_stop and not token.is_punct\n",
        "]\n",
        "\n",
        "print(Counter(word).most_common(5))"
      ],
      "metadata": {
        "colab": {
          "base_uri": "https://localhost:8080/"
        },
        "id": "iTJBH_rNinT1",
        "outputId": "a3b45cd4-bab2-4687-8ea9-040ddd60b415"
      },
      "execution_count": 16,
      "outputs": [
        {
          "output_type": "stream",
          "name": "stdout",
          "text": [
            "[('eyes', 2), ('grew', 2), ('laugh', 1), ('makes', 1), ('laughYour', 1)]\n"
          ]
        }
      ]
    },
    {
      "cell_type": "code",
      "source": [
        "stop word removal"
      ],
      "metadata": {
        "id": "JWHL75z0pA9W"
      },
      "execution_count": null,
      "outputs": []
    },
    {
      "cell_type": "code",
      "source": [
        "import spacy\n",
        "nlp=spacy.load(\"en_core_web_sm\")\n",
        "text=( \"Your smile makes me smile\"\n",
        "    \"Your laugh makes me laugh\"\n",
        "    \"Your eyes are enchanting\"\n",
        "    \"You make my thoughts seem daft.\"\n",
        "    \"Since the day I first laid eyes on you,\"\n",
        "    \"My feelings grew and grew.\"\n",
        "    \"In that first conversation my knees clicked and clacked,\"\n",
        "    \"And those butterflies flipped and flapped.\"\n",
        "    \"And as I spill these simple rhymes\"\n",
        "    \"My mind goes over time and time,\"\n",
        "    \"I have a crush, a little teenage crush\"\n",
        "    \"I don't know what to do, about this lovely little crush\")\n",
        "doc=nlp(text)\n",
        "print([token for token in doc if not token.is_stop])"
      ],
      "metadata": {
        "colab": {
          "base_uri": "https://localhost:8080/"
        },
        "id": "GvBR4nGmlBKM",
        "outputId": "32f495bb-8eaa-441a-c76f-453c6cdda478"
      },
      "execution_count": 11,
      "outputs": [
        {
          "output_type": "stream",
          "name": "stdout",
          "text": [
            "[smile, makes, smileYour, laugh, makes, laughYour, eyes, enchantingYou, thoughts, daft, ., day, laid, eyes, ,, feelings, grew, grew, ., conversation, knees, clicked, clacked, ,, butterflies, flipped, flapped, ., spill, simple, rhymesMy, mind, goes, time, time, ,, crush, ,, little, teenage, crushI, know, ,, lovely, little, crush]\n"
          ]
        }
      ]
    },
    {
      "cell_type": "code",
      "source": [
        "lemmetization"
      ],
      "metadata": {
        "id": "pEAVAttkpDZv"
      },
      "execution_count": null,
      "outputs": []
    },
    {
      "cell_type": "code",
      "source": [
        "import spacy\n",
        "nlp=spacy.load(\"en_core_web_sm\")\n",
        "text=( \"Your smile makes me smile\"\n",
        "    \"Your laugh makes me laugh\"\n",
        "    \"Your eyes are enchanting\"\n",
        "    \"You make my thoughts seem daft.\"\n",
        "    \"Since the day I first laid eyes on you,\"\n",
        "    \"My feelings grew and grew.\"\n",
        "    \"In that first conversation my knees clicked and clacked,\"\n",
        "    \"And those butterflies flipped and flapped.\"\n",
        "    \"And as I spill these simple rhymes\"\n",
        "    \"My mind goes over time and time,\"\n",
        "    \"I have a crush, a little teenage crush\"\n",
        "    \"I don't know what to do, about this lovely little crush\")\n",
        "doc=nlp(text)\n",
        "\n",
        "for token in doc:\n",
        "    if str(token) != str(token.lemma_):\n",
        "        print(f\"{str(token):>20} : {str(token.lemma_)}\")"
      ],
      "metadata": {
        "id": "29uBpGa8mUIH"
      },
      "execution_count": null,
      "outputs": []
    },
    {
      "cell_type": "code",
      "source": [
        "import spacy\n",
        "from collections import Counter\n",
        "nlp=spacy.load(\"en_core_web_sm\")\n",
        "text=( \"Your smile makes me smile\"\n",
        "    \"Your laugh makes me laugh\"\n",
        "    \"Your eyes are enchanting\"\n",
        "    \"You make my thoughts seem daft.\"\n",
        "    \"Since the day I first laid eyes on you,\"\n",
        "    \"My feelings grew and grew.\"\n",
        "    \"In that first conversation my knees clicked and clacked,\"\n",
        "    \"And those butterflies flipped and flapped.\"\n",
        "    \"And as I spill these simple rhymes\"\n",
        "    \"My mind goes over time and time,\"\n",
        "    \"I have a crush, a little teenage crush\"\n",
        "    \"I don't know what to do, about this lovely little crush\"\n",
        ")\n",
        "doc=nlp(text)\n",
        "\n",
        "# Tokenization\n",
        "for token in doc:\n",
        "  print(token,token.idx)\n",
        "\n",
        "print(\"#################################################\")\n",
        "\n",
        "# Word Frequency\n",
        "\n",
        "word=[\n",
        "    token.text\n",
        "    for token in doc\n",
        "    if not token.is_stop and not token.is_punct\n",
        "]\n",
        "\n",
        "print(Counter(word).most_common(5))\n",
        "\n",
        "print(\"#################################################\")\n",
        "\n",
        "# stop word\n",
        "\n",
        "print([token for token in doc if not token.is_stop])\n",
        "\n",
        "print(\"#################################################\")\n",
        "\n",
        "# Lemmitization\n",
        "\n",
        "for token in doc:\n",
        "    if str(token) != str(token.lemma_):\n",
        "        print(f\"{str(token):>20} : {str(token.lemma_)}\")"
      ],
      "metadata": {
        "id": "dFXjQvjopvqF"
      },
      "execution_count": null,
      "outputs": []
    },
    {
      "cell_type": "code",
      "source": [
        "import spacy\n",
        "from collections import Counter\n",
        "nlp=spacy.load(\"en_core_web_sm\")\n",
        "text=(\"Your smile makes me smile\"\n",
        "    \"Your laugh makes me laugh\"\n",
        "    \"Your eyes are enchanting\"\n",
        "    \"You make my thoughts seem daft.\"\n",
        "    \"Since the day I first laid eyes on you,\"\n",
        "    \"My feelings grew and grew.\"\n",
        "    \"In that first conversation my knees clicked and clacked,\"\n",
        "    \"And those butterflies flipped and flapped.\"\n",
        "    \"And as I spill these simple rhymes\"\n",
        "    \"My mind goes over time and time,\"\n",
        "    \"I have a crush, a little teenage crush\"\n",
        "    \"I don't know what to do, about this lovely little crush\")\n",
        "doc=nlp(text)\n",
        "\n",
        "#Tokanization\n",
        "\n",
        "for token in doc:\n",
        "  print(token,token.idx)\n",
        "print(\"!!!!!!!!!!!!!!!!!!!!!!!!!!!!!!!!!!!!!!!!!!!!!!!!!!!!!!!!!!!!!!!!!!!!!!!!!!!!!!!!!!!!!!!!!!!!!!!!!!!!!!!!!!!!!!!!!\")\n",
        "\n",
        "# Stop Words Removal\n",
        "\n",
        "print([token for token in doc if not token.is_stop])\n",
        "\n",
        "print(\"!!!!!!!!!!!!!!!!!!!!!!!!!!!!!!!!!!!!!!!!!!!!!!!!!!!!!!!!!!!!!!!!!!!!!!!!!!!!!!!!!!!!!!!!!!!!!!!!!!!!!!!!!!!!!!!!!\")\n",
        "\n",
        "#word frequency\n",
        "\n",
        "word=[\n",
        "    token.text\n",
        "    for token in doc\n",
        "    if not token.is_stop and not token.is_punct\n",
        "]\n",
        "\n",
        "print(Counter(word).most_common(5))\n",
        "\n",
        "print(\"!!!!!!!!!!!!!!!!!!!!!!!!!!!!!!!!!!!!!!!!!!!!!!!!!!!!!!!!!!!!!!!!!!!!!!!!!!!!!!!!!!!!!!!!!!!!!!!!!!!!!!!!!!!!!!!!!\")\n",
        "\n",
        "#Lemitization\n",
        "\n",
        "for token in doc:\n",
        "  if str(token)!=str(token.lemma_):\n",
        "     print(f\"{str(token)} : {str(token.lemma_)}\")"
      ],
      "metadata": {
        "id": "ew_1POMgtder"
      },
      "execution_count": null,
      "outputs": []
    }
  ],
  "metadata": {
    "colab": {
      "provenance": [],
      "authorship_tag": "ABX9TyMcCYodVJxkrC32HH2n9aB6",
      "include_colab_link": true
    },
    "kernelspec": {
      "display_name": "Python 3",
      "name": "python3"
    },
    "language_info": {
      "name": "python"
    }
  },
  "nbformat": 4,
  "nbformat_minor": 0
}