{
  "nbformat": 4,
  "nbformat_minor": 0,
  "metadata": {
    "colab": {
      "provenance": [],
      "authorship_tag": "ABX9TyNRgqD8jfMnbMBYuovFVSw4",
      "include_colab_link": true
    },
    "kernelspec": {
      "name": "python3",
      "display_name": "Python 3"
    },
    "language_info": {
      "name": "python"
    }
  },
  "cells": [
    {
      "cell_type": "markdown",
      "metadata": {
        "id": "view-in-github",
        "colab_type": "text"
      },
      "source": [
        "<a href=\"https://colab.research.google.com/github/Vaibhav440/NLP/blob/main/Assignment_3.ipynb\" target=\"_parent\"><img src=\"https://colab.research.google.com/assets/colab-badge.svg\" alt=\"Open In Colab\"/></a>"
      ]
    },
    {
      "cell_type": "code",
      "source": [
        "import spacy"
      ],
      "metadata": {
        "id": "iaWCdLTE5AK3"
      },
      "execution_count": 3,
      "outputs": []
    },
    {
      "cell_type": "code",
      "source": [
        "raw_text=\"\"\" Vaibhav is smart,stanford university he lives in New York\"\"\""
      ],
      "metadata": {
        "id": "L1U0JdbF5Crx"
      },
      "execution_count": 13,
      "outputs": []
    },
    {
      "cell_type": "code",
      "source": [
        "NER=spacy.load(\"en_core_web_sm\",disable=[\"tok2vec\",\"tagger\",\"parser\",\"attribute_ruler\",\"lemmatizer\"])"
      ],
      "metadata": {
        "id": "KMAO30bP5NEa"
      },
      "execution_count": 14,
      "outputs": []
    },
    {
      "cell_type": "code",
      "source": [
        "text=NER(raw_text)\n",
        "\n",
        "for w in text.ents:\n",
        "  print(w.text,w.label_)"
      ],
      "metadata": {
        "id": "lVh9iBul5i6Q"
      },
      "execution_count": null,
      "outputs": []
    },
    {
      "cell_type": "code",
      "source": [
        "import spacy\n",
        "raw_text=\"\"\" Apple Inc. is planning to open a new store in San Francisco next month.\"\"\"\n",
        "NER=spacy.load(\"en_core_web_sm\",disable=[\"tok2vec\",\"tagger\",\"parser\",\"attribute_ruler\",\"lemmatizer\"])\n",
        "text=NER(raw_text)\n",
        "\n",
        "for w in text.ents:\n",
        "  print(w.text,w.label_)\n"
      ],
      "metadata": {
        "colab": {
          "base_uri": "https://localhost:8080/"
        },
        "id": "8vLgWV_R6LWq",
        "outputId": "c4632469-2146-4a17-cd90-94f870f2a0f8"
      },
      "execution_count": 23,
      "outputs": [
        {
          "output_type": "stream",
          "name": "stdout",
          "text": [
            "Apple Inc. ORG\n",
            "San Francisco GPE\n",
            "next month DATE\n"
          ]
        }
      ]
    },
    {
      "cell_type": "code",
      "source": [
        "import spacy\n",
        "raw_text=\"\"\"Apple Inc. is planning to open a new store in San Francisco next month.\"\"\"\n",
        "NER=spacy.load(\"en_core_web_sm\",disable=[\"tok2vec\",\"tagger\",\"parser\",\"attribute_ruler\",\"lemmatizer\"])\n",
        "text=NER(raw_text)\n",
        "\n",
        "for w in text.ents:\n",
        "  print(w.text,w.label_)"
      ],
      "metadata": {
        "colab": {
          "base_uri": "https://localhost:8080/"
        },
        "id": "EgPp7gi48D1v",
        "outputId": "a6658404-f9c4-4705-cd65-dece9b4d0d17"
      },
      "execution_count": 25,
      "outputs": [
        {
          "output_type": "stream",
          "name": "stdout",
          "text": [
            "Apple Inc. ORG\n",
            "San Francisco GPE\n",
            "next month DATE\n"
          ]
        }
      ]
    },
    {
      "cell_type": "code",
      "source": [
        "import spacy\n",
        "raw_text=\"\"\"Apple Inc. is planning to open a new store in San Francisco next month.\"\"\"\n",
        "NER=spacy.load(\"en_core_web_sm\",disable=[\"tok2vec\",\"tagger\",\"parser\",\"attribute_ruler\",\"lemmatizer\"])\n",
        "text=NER(raw_text)\n",
        "\n",
        "for w in text.ents:\n",
        "  print(w.text,w.label_)\n"
      ],
      "metadata": {
        "colab": {
          "base_uri": "https://localhost:8080/"
        },
        "id": "MFgCVqEW8ya3",
        "outputId": "5ff97bab-67b8-4a03-be81-53222459dd78"
      },
      "execution_count": 26,
      "outputs": [
        {
          "output_type": "stream",
          "name": "stdout",
          "text": [
            "Apple Inc. ORG\n",
            "San Francisco GPE\n",
            "next month DATE\n"
          ]
        }
      ]
    }
  ]
}