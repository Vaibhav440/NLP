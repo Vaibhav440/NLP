{
  "nbformat": 4,
  "nbformat_minor": 0,
  "metadata": {
    "colab": {
      "provenance": [],
      "authorship_tag": "ABX9TyM4WDzUg+24DCbfjne3TZ9B",
      "include_colab_link": true
    },
    "kernelspec": {
      "name": "python3",
      "display_name": "Python 3"
    },
    "language_info": {
      "name": "python"
    }
  },
  "cells": [
    {
      "cell_type": "markdown",
      "metadata": {
        "id": "view-in-github",
        "colab_type": "text"
      },
      "source": [
        "<a href=\"https://colab.research.google.com/github/Vaibhav440/NLP/blob/main/Assignment_5.ipynb\" target=\"_parent\"><img src=\"https://colab.research.google.com/assets/colab-badge.svg\" alt=\"Open In Colab\"/></a>"
      ]
    },
    {
      "cell_type": "code",
      "source": [
        "import spacy\n",
        "import re\n",
        "\n",
        "# Load the spaCy English language model\n",
        "nlp = spacy.load(\"en_core_web_sm\")\n",
        "\n",
        "# Define regular expressions\n",
        "url_pattern = re.compile(r'https?://\\S+|www\\.\\S+')\n",
        "ip_address_pattern = re.compile(r'\\b(?:\\d{1,3}\\.){3}\\d{1,3}\\b')\n",
        "date_pattern = re.compile(r'\\d{4}-\\d{2}-\\d{2}')\n",
        "pan_number_pattern = re.compile(r'[A-Z]{5}[0-9]{4}[A-Z]')\n",
        "\n",
        "def extract_entities(text):\n",
        "    # Tokenize the text using spaCy\n",
        "    doc = nlp(text)\n",
        "\n",
        "    # Find entities using regular expressions\n",
        "    urls = re.findall(url_pattern, text)\n",
        "    ip_addresses = re.findall(ip_address_pattern, text)\n",
        "    dates = re.findall(date_pattern, text)\n",
        "    pan_numbers = re.findall(pan_number_pattern, text)\n",
        "\n",
        "    # Extract spaCy entities\n",
        "    entities = [(ent.text, ent.label_) for ent in doc.ents]\n",
        "\n",
        "    return {\n",
        "        'urls': urls,\n",
        "        'ip_addresses': ip_addresses,\n",
        "        'dates': dates,\n",
        "        'pan_numbers': pan_numbers,\n",
        "        'spaCy_entities': entities\n",
        "    }\n",
        "\n",
        "# Example usage\n",
        "text_data = \"\"\"\n",
        "Here is a sample text with a URL: https://www.example.com.\n",
        "Also, an IP address: 192.168.1.1. The date is 2023-01-01,\n",
        "and a PAN number is ABCDE1234F.\n",
        "\"\"\"\n",
        "\n",
        "results = extract_entities(text_data)\n",
        "\n",
        "print(\"URLs:\", results['urls'])\n",
        "print(\"IP Addresses:\", results['ip_addresses'])\n",
        "print(\"Dates:\", results['dates'])\n",
        "print(\"PAN Numbers:\", results['pan_numbers'])\n",
        "print(\"Entities:\", results['spaCy_entities'])\n"
      ],
      "metadata": {
        "colab": {
          "base_uri": "https://localhost:8080/"
        },
        "id": "-hZoGMdINN1F",
        "outputId": "7132ec7d-c7eb-4c38-accd-1c35cde4a1fb"
      },
      "execution_count": 9,
      "outputs": [
        {
          "output_type": "stream",
          "name": "stdout",
          "text": [
            "URLs: ['https://www.example.com.']\n",
            "IP Addresses: ['192.168.1.1']\n",
            "Dates: ['2023-01-01']\n",
            "PAN Numbers: ['ABCDE1234F']\n",
            "Entities: [('IP', 'ORG'), ('192.168.1.1', 'CARDINAL'), ('2023-01-01', 'DATE'), ('PAN', 'ORG')]\n"
          ]
        }
      ]
    },
    {
      "cell_type": "code",
      "source": [
        "import spacy\n",
        "import re\n",
        "\n",
        "nlp=spacy.load(\"en_core_web_sm\")\n",
        "\n",
        "#Define regular expression\n",
        "\n",
        "pan_number_pattern=re.compile(r'[A-Z]{5}[0-9]{4}[A_Z]{1}')\n",
        "date_pattern=re.compile(r'\\d{4}-\\d{2}-\\d{2}')\n",
        "url_pattern=re.compile(r'https?://\\S+||www\\.\\S+')\n",
        "ip_address_pattern=re.compile(r'\\b(?:\\d{1,3}\\.){3}\\d{1,3}\\b')\n",
        "\n",
        "def extract_entities(text):\n",
        "\n",
        "  doc=nlp(text)\n",
        "\n",
        "  urls=re.findall(url_pattern,text)\n",
        "  ip_addresses = re.findall(ip_address_pattern, text)\n",
        "  dates = re.findall(date_pattern, text)\n",
        "  pan_numbers = re.findall(pan_number_pattern, text)\n",
        "\n",
        "  entities = [(ent.text, ent.label_) for ent in doc.ents]\n",
        "\n",
        "  return {\n",
        "        'urls': urls,\n",
        "        'ip_addresses': ip_addresses,\n",
        "        'dates': dates,\n",
        "        'pan_numbers': pan_numbers,\n",
        "        'spaCy_entities': entities\n",
        "    }\n",
        "\n",
        "# Example usage\n",
        "text_data = \"\"\"\n",
        "Here is a sample text with a URL: https://www.example.com.\n",
        "Also, an IP address: 192.168.1.1. The date is 2023-01-01,\n",
        "and a PAN number is ABCDE1234F.\n",
        "\"\"\"\n",
        "\n",
        "results = extract_entities(text_data)\n",
        "\n",
        "print(\"URLs:\", results['urls'])\n",
        "print(\"IP Addresses:\", results['ip_addresses'])\n",
        "print(\"Dates:\", results['dates'])\n",
        "print(\"PAN Numbers:\", results['pan_numbers'])\n",
        "print(\"Entities:\", results['spaCy_entities'])\n"
      ],
      "metadata": {
        "colab": {
          "base_uri": "https://localhost:8080/"
        },
        "id": "fkQl4I5xNn2k",
        "outputId": "f9ae7d71-c695-427e-be84-5f1dc1e8f2a9"
      },
      "execution_count": 11,
      "outputs": [
        {
          "output_type": "stream",
          "name": "stdout",
          "text": [
            "URLs: ['', '', '', '', '', '', '', '', '', '', '', '', '', '', '', '', '', '', '', '', '', '', '', '', '', '', '', '', '', '', '', '', '', '', '', 'https://www.example.com.', '', '', '', '', '', '', '', '', '', '', '', '', '', '', '', '', '', '', '', '', '', '', '', '', '', '', '', '', '', '', '', '', '', '', '', '', '', '', '', '', '', '', '', '', '', '', '', '', '', '', '', '', '', '', '', '', '', '', '', '', '', '', '', '', '', '', '', '', '', '', '', '', '', '', '', '', '', '', '', '', '', '', '', '', '', '', '', '', '', '', '', '', '', '']\n",
            "IP Addresses: ['192.168.1.1']\n",
            "Dates: ['2023-01-01']\n",
            "PAN Numbers: []\n",
            "Entities: [('IP', 'ORG'), ('192.168.1.1', 'CARDINAL'), ('2023-01-01', 'DATE'), ('PAN', 'ORG')]\n"
          ]
        }
      ]
    }
  ]
}