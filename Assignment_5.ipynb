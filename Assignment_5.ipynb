{
  "nbformat": 4,
  "nbformat_minor": 0,
  "metadata": {
    "colab": {
      "provenance": [],
      "authorship_tag": "ABX9TyM9o6ACoGAsZFVzga//vDLN",
      "include_colab_link": true
    },
    "kernelspec": {
      "name": "python3",
      "display_name": "Python 3"
    },
    "language_info": {
      "name": "python"
    }
  },
  "cells": [
    {
      "cell_type": "markdown",
      "metadata": {
        "id": "view-in-github",
        "colab_type": "text"
      },
      "source": [
        "<a href=\"https://colab.research.google.com/github/Vaibhav440/NLP/blob/main/Assignment_5.ipynb\" target=\"_parent\"><img src=\"https://colab.research.google.com/assets/colab-badge.svg\" alt=\"Open In Colab\"/></a>"
      ]
    },
    {
      "cell_type": "code",
      "execution_count": 6,
      "metadata": {
        "colab": {
          "base_uri": "https://localhost:8080/"
        },
        "id": "e4JwnzU7_YFv",
        "outputId": "d82c6525-6e43-4570-92f1-7ed4c936d366"
      },
      "outputs": [
        {
          "output_type": "stream",
          "name": "stdout",
          "text": [
            "('I', 'am', 'vaibhav')\n",
            "('am', 'vaibhav', 'Shete')\n",
            "('vaibhav', 'Shete', 'lives')\n",
            "('Shete', 'lives', 'in')\n",
            "('lives', 'in', 'sangmner')\n"
          ]
        }
      ],
      "source": [
        "from nltk import ngrams\n",
        "from nltk.util import ngrams\n",
        "\n",
        "n=3\n",
        "sentence=\"\"\"I am vaibhav Shete lives in sangmner\"\"\"\n",
        "unigrams = ngrams(sentence.split(),n)\n",
        "\n",
        "for token in unigrams:\n",
        "  print(token)"
      ]
    },
    {
      "cell_type": "code",
      "source": [
        "from nltk import ngrams\n",
        "from nltk.util import ngrams\n",
        "\n",
        "n=1\n",
        "text='I am vaibhav Shete '\n",
        "unigrams=ngrams(text.split(),n)\n",
        "for token in unigrams:\n",
        "  print(token)"
      ],
      "metadata": {
        "colab": {
          "base_uri": "https://localhost:8080/"
        },
        "id": "MDuNVPe5A-HY",
        "outputId": "d6abca53-74dd-4d09-a446-0e65e8fccd3c"
      },
      "execution_count": 8,
      "outputs": [
        {
          "output_type": "stream",
          "name": "stdout",
          "text": [
            "('I',)\n",
            "('am',)\n",
            "('vaibhav',)\n",
            "('Shete',)\n"
          ]
        }
      ]
    },
    {
      "cell_type": "code",
      "source": [
        "from nltk import ngrams\n",
        "from nltk.util import ngrams\n",
        "\n",
        "n=3\n",
        "text='I am vaibhav shete'\n",
        "unigrams=ngrams(text.split(),n)\n",
        "for i in unigrams:\n",
        "  print(i)\n"
      ],
      "metadata": {
        "colab": {
          "base_uri": "https://localhost:8080/"
        },
        "id": "ob2pB8s_Bf4z",
        "outputId": "6ac842d9-86e2-4deb-e9bb-7875eac5613e"
      },
      "execution_count": 11,
      "outputs": [
        {
          "output_type": "stream",
          "name": "stdout",
          "text": [
            "('I', 'am', 'vaibhav')\n",
            "('am', 'vaibhav', 'shete')\n"
          ]
        }
      ]
    }
  ]
}