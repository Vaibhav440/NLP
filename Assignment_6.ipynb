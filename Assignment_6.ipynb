{
  "nbformat": 4,
  "nbformat_minor": 0,
  "metadata": {
    "colab": {
      "provenance": [],
      "authorship_tag": "ABX9TyMgFoHsUuN03K+Xbo1teaNa",
      "include_colab_link": true
    },
    "kernelspec": {
      "name": "python3",
      "display_name": "Python 3"
    },
    "language_info": {
      "name": "python"
    }
  },
  "cells": [
    {
      "cell_type": "markdown",
      "metadata": {
        "id": "view-in-github",
        "colab_type": "text"
      },
      "source": [
        "<a href=\"https://colab.research.google.com/github/Vaibhav440/NLP/blob/main/Assignment_6.ipynb\" target=\"_parent\"><img src=\"https://colab.research.google.com/assets/colab-badge.svg\" alt=\"Open In Colab\"/></a>"
      ]
    },
    {
      "cell_type": "code",
      "source": [
        "import spacy\n",
        "from spacy import displacy\n",
        "nlp=spacy.load(\"en_core_web_sm\")\n",
        "text=\"\"\"I am vaibhav\n",
        "from sangamner,\n",
        "very honest\"\"\"\n",
        "doc=nlp(text)\n",
        "for token in doc:\n",
        "  print(\n",
        "      f\"\"\"\n",
        "      TOKEN : {token.text}\n",
        "\n",
        "      ===\n",
        "      {token.tag_ =}\n",
        "      {token.head.text=}\n",
        "      {token.dep_ =} \"\"\"\n",
        "  )\n",
        "\n",
        "  displacy.serve(doc,style=\"dep\")"
      ],
      "metadata": {
        "id": "a9yWPYS5GWtB"
      },
      "execution_count": null,
      "outputs": []
    }
  ]
}